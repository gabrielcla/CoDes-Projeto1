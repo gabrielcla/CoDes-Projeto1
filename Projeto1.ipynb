{
 "cells": [
  {
   "cell_type": "markdown",
   "metadata": {},
   "source": [
    "# Projeto 1 - Gabriel Couto\n",
    "Pergunta: Países com maior IDH realmente tem maiores taxas de suicídio tanto para homens quanto para mulheres?"
   ]
  },
  {
   "cell_type": "markdown",
   "metadata": {},
   "source": [
    "Importar bibliotecas e arquivos:"
   ]
  },
  {
   "cell_type": "code",
   "execution_count": 7,
   "metadata": {},
   "outputs": [],
   "source": [
    "import pandas as pd\n",
    "import numpy as np\n",
    "import matplotlib\n",
    "import matplotlib.pyplot as plt\n",
    "%matplotlib inline\n",
    "matplotlib.style.use('ggplot')\n",
    "\n",
    "idh0 = pd.read_excel('Indicator_HDI.xlsx')\n",
    "Shomens = pd.read_excel('Suicide male indicator.xlsx')\n",
    "Smulheres = pd.read_excel('Suicide female indicator.xlsx')"
   ]
  },
  {
   "cell_type": "code",
   "execution_count": 8,
   "metadata": {},
   "outputs": [],
   "source": [
    "ano = 2000 #Ano escolhido\n",
    "\n",
    "#Pegar colunas que importam\n",
    "m1 = Smulheres.loc[:,['Suicide women age adjusted',ano]]\n",
    "h1 = Shomens.loc[:,['Suicide among men, per 100 000, age adjusted',ano]]\n",
    "idh1 = idh0.loc[:,['HDI',ano]]\n",
    "\n",
    "#Mudar nome das colunas\n",
    "m1.columns = ['Country', 'Women']\n",
    "h1.columns = ['Country','Men']\n",
    "idh1.columns = ['Country','IDH']\n",
    "\n",
    "#Mudar índice para o país\n",
    "mulheres = m1.set_index('Country')\n",
    "homens = h1.set_index('Country')\n",
    "idh2 = idh1.set_index('Country') \n",
    "\n",
    "#Filtrar Nan's\n",
    "dH = homens[homens['Men']>-1] \n",
    "dM = mulheres[mulheres['Women']>-1]\n",
    "dIDH = idh2[idh2['IDH']>-1]\n",
    "\n",
    "#Unir as tabelas\n",
    "dados = dIDH.join(dH.join(dM,how='inner'), how='inner')\n",
    "\n",
    "#Salvando a tabela criada como CSV:\n",
    "dados.to_csv('tabelaPronta.csv')"
   ]
  },
  {
   "cell_type": "markdown",
   "metadata": {},
   "source": [
    "Gráfico de dispersão: IDH x Suicídios masculinos e IDH x Suicídios femininos"
   ]
  },
  {
   "cell_type": "code",
   "execution_count": 9,
   "metadata": {},
   "outputs": [
    {
     "data": {
      "text/plain": [
       "<matplotlib.axes._subplots.AxesSubplot at 0x21a15247828>"
      ]
     },
     "execution_count": 9,
     "metadata": {},
     "output_type": "execute_result"
    },
    {
     "data": {
      "image/png": "[encoded data removed]",
      "text/plain": [
       "<Figure size 432x288 with 1 Axes>"
      ]
     },
     "metadata": {},
     "output_type": "display_data"
    },
    {
     "data": {
      "image/png": "[encoded data removed]",
      "text/plain": [
       "<Figure size 432x288 with 1 Axes>"
      ]
     },
     "metadata": {},
     "output_type": "display_data"
    }
   ],
   "source": [
    "dados.plot.scatter(x=\"IDH\", y = \"Men\")#,  logx=True)\n",
    "dados.plot.scatter(x=\"IDH\", y = \"Women\")#,  logx=True)"
   ]
  },
  {
   "cell_type": "markdown",
   "metadata": {},
   "source": [
    "O coeficiente de correlação entre as variáveis:"
   ]
  },
  {
   "cell_type": "code",
   "execution_count": 11,
   "metadata": {},
   "outputs": [
    {
     "data": {
      "text/html": [
       "<div>\n",
       "<style scoped>\n",
       "    .dataframe tbody tr th:only-of-type {\n",
       "        vertical-align: middle;\n",
       "    }\n",
       "\n",
       "    .dataframe tbody tr th {\n",
       "        vertical-align: top;\n",
       "    }\n",
       "\n",
       "    .dataframe thead th {\n",
       "        text-align: right;\n",
       "    }\n",
       "</style>\n",
       "<table border=\"1\" class=\"dataframe\">\n",
       "  <thead>\n",
       "    <tr style=\"text-align: right;\">\n",
       "      <th></th>\n",
       "      <th>IDH</th>\n",
       "      <th>Men</th>\n",
       "      <th>Women</th>\n",
       "    </tr>\n",
       "  </thead>\n",
       "  <tbody>\n",
       "    <tr>\n",
       "      <th>IDH</th>\n",
       "      <td>1.000000</td>\n",
       "      <td>0.065183</td>\n",
       "      <td>0.270789</td>\n",
       "    </tr>\n",
       "    <tr>\n",
       "      <th>Men</th>\n",
       "      <td>0.065183</td>\n",
       "      <td>1.000000</td>\n",
       "      <td>0.864259</td>\n",
       "    </tr>\n",
       "    <tr>\n",
       "      <th>Women</th>\n",
       "      <td>0.270789</td>\n",
       "      <td>0.864259</td>\n",
       "      <td>1.000000</td>\n",
       "    </tr>\n",
       "  </tbody>\n",
       "</table>\n",
       "</div>"
      ],
      "text/plain": [
       "            IDH       Men     Women\n",
       "IDH    1.000000  0.065183  0.270789\n",
       "Men    0.065183  1.000000  0.864259\n",
       "Women  0.270789  0.864259  1.000000"
      ]
     },
     "execution_count": 11,
     "metadata": {},
     "output_type": "execute_result"
    }
   ],
   "source": [
    "dados.corr()"
   ]
  },
  {
   "cell_type": "code",
   "execution_count": 12,
   "metadata": {},
   "outputs": [
    {
     "data": {
      "text/html": [
       "<div>\n",
       "<style scoped>\n",
       "    .dataframe tbody tr th:only-of-type {\n",
       "        vertical-align: middle;\n",
       "    }\n",
       "\n",
       "    .dataframe tbody tr th {\n",
       "        vertical-align: top;\n",
       "    }\n",
       "\n",
       "    .dataframe thead th {\n",
       "        text-align: right;\n",
       "    }\n",
       "</style>\n",
       "<table border=\"1\" class=\"dataframe\">\n",
       "  <thead>\n",
       "    <tr style=\"text-align: right;\">\n",
       "      <th></th>\n",
       "      <th>IDH</th>\n",
       "      <th>Men</th>\n",
       "      <th>Women</th>\n",
       "    </tr>\n",
       "  </thead>\n",
       "  <tbody>\n",
       "    <tr>\n",
       "      <th>count</th>\n",
       "      <td>52.000000</td>\n",
       "      <td>52.000000</td>\n",
       "      <td>52.000000</td>\n",
       "    </tr>\n",
       "    <tr>\n",
       "      <th>mean</th>\n",
       "      <td>0.761481</td>\n",
       "      <td>20.106163</td>\n",
       "      <td>4.870909</td>\n",
       "    </tr>\n",
       "    <tr>\n",
       "      <th>std</th>\n",
       "      <td>0.094416</td>\n",
       "      <td>15.307430</td>\n",
       "      <td>3.262774</td>\n",
       "    </tr>\n",
       "    <tr>\n",
       "      <th>min</th>\n",
       "      <td>0.525000</td>\n",
       "      <td>0.118078</td>\n",
       "      <td>0.039894</td>\n",
       "    </tr>\n",
       "    <tr>\n",
       "      <th>25%</th>\n",
       "      <td>0.702500</td>\n",
       "      <td>10.071437</td>\n",
       "      <td>2.359902</td>\n",
       "    </tr>\n",
       "    <tr>\n",
       "      <th>50%</th>\n",
       "      <td>0.762000</td>\n",
       "      <td>17.504965</td>\n",
       "      <td>4.503623</td>\n",
       "    </tr>\n",
       "    <tr>\n",
       "      <th>75%</th>\n",
       "      <td>0.840750</td>\n",
       "      <td>24.351253</td>\n",
       "      <td>7.504652</td>\n",
       "    </tr>\n",
       "    <tr>\n",
       "      <th>max</th>\n",
       "      <td>0.913000</td>\n",
       "      <td>75.079410</td>\n",
       "      <td>13.985880</td>\n",
       "    </tr>\n",
       "  </tbody>\n",
       "</table>\n",
       "</div>"
      ],
      "text/plain": [
       "             IDH        Men      Women\n",
       "count  52.000000  52.000000  52.000000\n",
       "mean    0.761481  20.106163   4.870909\n",
       "std     0.094416  15.307430   3.262774\n",
       "min     0.525000   0.118078   0.039894\n",
       "25%     0.702500  10.071437   2.359902\n",
       "50%     0.762000  17.504965   4.503623\n",
       "75%     0.840750  24.351253   7.504652\n",
       "max     0.913000  75.079410  13.985880"
      ]
     },
     "execution_count": 12,
     "metadata": {},
     "output_type": "execute_result"
    }
   ],
   "source": [
    "dados.describe()"
   ]
  },
  {
   "cell_type": "markdown",
   "metadata": {},
   "source": [
    "O coef. de correlação entre IDH e Sui.Fem (0.27) sugere uma baixa correlação entre essas duas variáveis.<br>\n",
    "O coef. de correlação entre IDH e Sui.Mas (0.065) sugere quase que uma ausência de relação entre as duas variáveis.<br>"
   ]
  },
  {
   "cell_type": "code",
   "execution_count": null,
   "metadata": {},
   "outputs": [],
   "source": []
  }
 ],
 "metadata": {
  "kernelspec": {
   "display_name": "Python 3",
   "language": "python",
   "name": "python3"
  },
  "language_info": {
   "codemirror_mode": {
    "name": "ipython",
    "version": 3
   },
   "file_extension": ".py",
   "mimetype": "text/x-python",
   "name": "python",
   "nbconvert_exporter": "python",
   "pygments_lexer": "ipython3",
   "version": "3.6.5"
  }
 },
 "nbformat": 4,
 "nbformat_minor": 2
}
