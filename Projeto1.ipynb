{
 "cells": [
  {
   "cell_type": "markdown",
   "metadata": {},
   "source": [
    "# Projeto 1 - Gabriel Couto\n",
    "Pergunta: Países com maior IDH realmente tem maiores taxas de suicídio tanto para homens quanto para mulheres?"
   ]
  },
  {
   "cell_type": "markdown",
   "metadata": {},
   "source": [
    "## Introdução:\n",
    "   É comum acreditarem que países com maiores IDH's tenham menores taxa de suicídio (pessoas que se suicidam a cada 100 mil pessoas) <br>\n",
    "    Utilizando como minhas variáveis os dados disponíveis no Gapminder de IDH, TS masculina e TS feminina analizo a questão"
   ]
  },
  {
   "cell_type": "markdown",
   "metadata": {},
   "source": [
    "Importar bibliotecas e arquivos:"
   ]
  },
  {
   "cell_type": "code",
   "execution_count": 1,
   "metadata": {},
   "outputs": [],
   "source": [
    "import pandas as pd\n",
    "import numpy as np\n",
    "import matplotlib\n",
    "import matplotlib.pyplot as plt\n",
    "%matplotlib inline\n",
    "matplotlib.style.use('ggplot')\n",
    "\n",
    "idh0 = pd.read_excel('dados/Indicator_HDI.xlsx')\n",
    "h0 = pd.read_excel('dados/Suicide male indicator.xlsx')\n",
    "m0 = pd.read_excel('dados/Suicide female indicator.xlsx')"
   ]
  },
  {
   "cell_type": "markdown",
   "metadata": {},
   "source": [
    "Definindo funções para manipular as tabelas e plotar os gráficos com mais facilidade:"
   ]
  },
  {
   "cell_type": "code",
   "execution_count": 11,
   "metadata": {},
   "outputs": [],
   "source": [
    "def tabelaAno(ano): \n",
    "    #Pegar colunas da variável escolhida e do ano\n",
    "    m1 = m0.loc[:,['Suicide women age adjusted',ano]]\n",
    "    h1 = h0.loc[:,['Suicide among men, per 100 000, age adjusted',ano]]\n",
    "    idh1 = idh0.loc[:,['HDI',ano]]\n",
    "\n",
    "    #Mudar nome das colunas\n",
    "    m1.columns = ['Country','TSF_'+str(ano)]\n",
    "    h1.columns = ['Country','TSM_'+str(ano)]\n",
    "    idh1.columns = ['Country','IDH_'+str(ano)]\n",
    "\n",
    "    #Mudar índice para o país\n",
    "    m2 = m1.set_index('Country')\n",
    "    h2 = h1.set_index('Country')\n",
    "    idh2 = idh1.set_index('Country') \n",
    "    \n",
    "    #Filtrar Nan's\n",
    "    m3 = m2[m2['TSF_'+str(ano)]>-1]\n",
    "    h3 = h2[h2['TSM_'+str(ano)]>-1]     \n",
    "    idh3 = idh2[idh2['IDH_'+str(ano)]>-1]\n",
    "\n",
    "    #Unir as tabelas\n",
    "    dados = idh3.join(h3.join(m3,how='inner'), how='inner')\n",
    "    \n",
    "    #Salvar tabela\n",
    "    dados.to_csv('dados/IDHxTSMxTSF_'+str(ano)+'.csv')\n",
    "    return dados\n",
    "\n",
    "def plotar(ano,X):\n",
    "    if X == 'log':\n",
    "        tabelaAno(ano).plot.scatter(x=\"IDH_\"+str(ano), y = \"TSF_\"+str(ano),  logx=True)\n",
    "        tabelaAno(ano).plot.scatter(x=\"IDH_\"+str(ano), y = \"TSM_\"+str(ano),  logx=True)\n",
    "    else:\n",
    "        tabelaAno(ano).plot.scatter(x=\"IDH_\"+str(ano), y = \"TSF_\"+str(ano))\n",
    "        tabelaAno(ano).plot.scatter(x=\"IDH_\"+str(ano), y = \"TSM_\"+str(ano))"
   ]
  },
  {
   "cell_type": "markdown",
   "metadata": {},
   "source": [
    "## Análise exploratória:\n",
    "Primeiramente visualizamos nossos dados plotando os gráficos de dispersão de IDH x TSM e IDH x TSF no ano escolhido (2000) para ver como os dados se distribuem:"
   ]
  },
  {
   "cell_type": "code",
   "execution_count": 16,
   "metadata": {},
   "outputs": [
    {
     "data": {
      "image/png": "[encoded data removed]",
      "text/plain": [
       "<Figure size 432x288 with 1 Axes>"
      ]
     },
     "metadata": {},
     "output_type": "display_data"
    },
    {
     "data": {
      "image/png": "[encoded data removed]",
      "text/plain": [
       "<Figure size 432x288 with 1 Axes>"
      ]
     },
     "metadata": {},
     "output_type": "display_data"
    }
   ],
   "source": [
    "plotar(2000,0)"
   ]
  },
  {
   "cell_type": "markdown",
   "metadata": {},
   "source": [
    "Gerando estatísticas dos dados:"
   ]
  },
  {
   "cell_type": "code",
   "execution_count": 53,
   "metadata": {},
   "outputs": [
    {
     "data": {
      "text/html": [
       "<div>\n",
       "<style scoped>\n",
       "    .dataframe tbody tr th:only-of-type {\n",
       "        vertical-align: middle;\n",
       "    }\n",
       "\n",
       "    .dataframe tbody tr th {\n",
       "        vertical-align: top;\n",
       "    }\n",
       "\n",
       "    .dataframe thead th {\n",
       "        text-align: right;\n",
       "    }\n",
       "</style>\n",
       "<table border=\"1\" class=\"dataframe\">\n",
       "  <thead>\n",
       "    <tr style=\"text-align: right;\">\n",
       "      <th></th>\n",
       "      <th>IDH_2000</th>\n",
       "      <th>TSM_2000</th>\n",
       "      <th>TSF_2000</th>\n",
       "    </tr>\n",
       "  </thead>\n",
       "  <tbody>\n",
       "    <tr>\n",
       "      <th>count</th>\n",
       "      <td>52.000000</td>\n",
       "      <td>52.000000</td>\n",
       "      <td>52.000000</td>\n",
       "    </tr>\n",
       "    <tr>\n",
       "      <th>mean</th>\n",
       "      <td>0.761481</td>\n",
       "      <td>20.106163</td>\n",
       "      <td>4.870909</td>\n",
       "    </tr>\n",
       "    <tr>\n",
       "      <th>std</th>\n",
       "      <td>0.094416</td>\n",
       "      <td>15.307430</td>\n",
       "      <td>3.262774</td>\n",
       "    </tr>\n",
       "    <tr>\n",
       "      <th>min</th>\n",
       "      <td>0.525000</td>\n",
       "      <td>0.118078</td>\n",
       "      <td>0.039894</td>\n",
       "    </tr>\n",
       "    <tr>\n",
       "      <th>25%</th>\n",
       "      <td>0.702500</td>\n",
       "      <td>10.071437</td>\n",
       "      <td>2.359902</td>\n",
       "    </tr>\n",
       "    <tr>\n",
       "      <th>50%</th>\n",
       "      <td>0.762000</td>\n",
       "      <td>17.504965</td>\n",
       "      <td>4.503623</td>\n",
       "    </tr>\n",
       "    <tr>\n",
       "      <th>75%</th>\n",
       "      <td>0.840750</td>\n",
       "      <td>24.351253</td>\n",
       "      <td>7.504652</td>\n",
       "    </tr>\n",
       "    <tr>\n",
       "      <th>max</th>\n",
       "      <td>0.913000</td>\n",
       "      <td>75.079410</td>\n",
       "      <td>13.985880</td>\n",
       "    </tr>\n",
       "  </tbody>\n",
       "</table>\n",
       "</div>"
      ],
      "text/plain": [
       "        IDH_2000   TSM_2000   TSF_2000\n",
       "count  52.000000  52.000000  52.000000\n",
       "mean    0.761481  20.106163   4.870909\n",
       "std     0.094416  15.307430   3.262774\n",
       "min     0.525000   0.118078   0.039894\n",
       "25%     0.702500  10.071437   2.359902\n",
       "50%     0.762000  17.504965   4.503623\n",
       "75%     0.840750  24.351253   7.504652\n",
       "max     0.913000  75.079410  13.985880"
      ]
     },
     "execution_count": 53,
     "metadata": {},
     "output_type": "execute_result"
    }
   ],
   "source": [
    "stat = tabelaAno(2000).describe()\n",
    "stat"
   ]
  },
  {
   "cell_type": "code",
   "execution_count": 56,
   "metadata": {},
   "outputs": [
    {
     "name": "stdout",
     "output_type": "stream",
     "text": [
      "Taxa de suicídio feminino varia de 0.04 à 13.99\n",
      "Taxa de suicídio masculino varia de 0.12 à 75.08\n"
     ]
    }
   ],
   "source": [
    "print('Taxa de suicídio feminino varia de',round(stat['TSF_2000']['min'],2),'à',round(stat['TSF_2000']['max'],2))\n",
    "print('Taxa de suicídio masculino varia de',round(stat['TSM_2000']['min'],2),'à',round(stat['TSM_2000']['max'],2))"
   ]
  },
  {
   "cell_type": "markdown",
   "metadata": {},
   "source": [
    "Calculando o coeficiente de correlação entre as variáveis:"
   ]
  },
  {
   "cell_type": "code",
   "execution_count": 3,
   "metadata": {},
   "outputs": [
    {
     "data": {
      "text/html": [
       "<div>\n",
       "<style scoped>\n",
       "    .dataframe tbody tr th:only-of-type {\n",
       "        vertical-align: middle;\n",
       "    }\n",
       "\n",
       "    .dataframe tbody tr th {\n",
       "        vertical-align: top;\n",
       "    }\n",
       "\n",
       "    .dataframe thead th {\n",
       "        text-align: right;\n",
       "    }\n",
       "</style>\n",
       "<table border=\"1\" class=\"dataframe\">\n",
       "  <thead>\n",
       "    <tr style=\"text-align: right;\">\n",
       "      <th></th>\n",
       "      <th>IDH_2000</th>\n",
       "      <th>TSM_2000</th>\n",
       "      <th>TSF_2000</th>\n",
       "    </tr>\n",
       "  </thead>\n",
       "  <tbody>\n",
       "    <tr>\n",
       "      <th>IDH_2000</th>\n",
       "      <td>1.000000</td>\n",
       "      <td>0.065183</td>\n",
       "      <td>0.270789</td>\n",
       "    </tr>\n",
       "    <tr>\n",
       "      <th>TSM_2000</th>\n",
       "      <td>0.065183</td>\n",
       "      <td>1.000000</td>\n",
       "      <td>0.864259</td>\n",
       "    </tr>\n",
       "    <tr>\n",
       "      <th>TSF_2000</th>\n",
       "      <td>0.270789</td>\n",
       "      <td>0.864259</td>\n",
       "      <td>1.000000</td>\n",
       "    </tr>\n",
       "  </tbody>\n",
       "</table>\n",
       "</div>"
      ],
      "text/plain": [
       "          IDH_2000  TSM_2000  TSF_2000\n",
       "IDH_2000  1.000000  0.065183  0.270789\n",
       "TSM_2000  0.065183  1.000000  0.864259\n",
       "TSF_2000  0.270789  0.864259  1.000000"
      ]
     },
     "execution_count": 3,
     "metadata": {},
     "output_type": "execute_result"
    }
   ],
   "source": [
    "tabelaAno(2000).corr()"
   ]
  },
  {
   "cell_type": "markdown",
   "metadata": {},
   "source": [
    "O coef. de correlação entre IDH e Sui.Fem (0.27) sugere uma baixa correlação entre essas duas variáveis.<br>\n",
    "O coef. de correlação entre IDH e Sui.Mas (0.065) sugere uma ausência de relação entre as duas variáveis.<br> "
   ]
  },
  {
   "cell_type": "markdown",
   "metadata": {},
   "source": [
    "Aparentemente não existe correlação entre IDH e as TS para nenhum dos sexos, mas usamos os outros anos disponíveis para confirmar nossa análise:"
   ]
  },
  {
   "cell_type": "code",
   "execution_count": 65,
   "metadata": {},
   "outputs": [
    {
     "data": {
      "image/png": "[encoded data removed]",
      "text/plain": [
       "<Figure size 432x288 with 1 Axes>"
      ]
     },
     "metadata": {},
     "output_type": "display_data"
    },
    {
     "data": {
      "image/png": "[encoded data removed]",
      "text/plain": [
       "<Figure size 432x288 with 1 Axes>"
      ]
     },
     "metadata": {},
     "output_type": "display_data"
    },
    {
     "data": {
      "image/png": "[encoded data removed]",
      "text/plain": [
       "<Figure size 432x288 with 1 Axes>"
      ]
     },
     "metadata": {},
     "output_type": "display_data"
    },
    {
     "data": {
      "image/png": "[encoded data removed]",
      "text/plain": [
       "<Figure size 432x288 with 1 Axes>"
      ]
     },
     "metadata": {},
     "output_type": "display_data"
    }
   ],
   "source": [
    "plotar(1980,0)\n",
    "plotar(1990,0)"
   ]
  },
  {
   "cell_type": "markdown",
   "metadata": {},
   "source": [
    "Calculando o coef. de correlação para anos disponíveis:"
   ]
  },
  {
   "cell_type": "code",
   "execution_count": 67,
   "metadata": {},
   "outputs": [
    {
     "data": {
      "text/html": [
       "<div>\n",
       "<style scoped>\n",
       "    .dataframe tbody tr th:only-of-type {\n",
       "        vertical-align: middle;\n",
       "    }\n",
       "\n",
       "    .dataframe tbody tr th {\n",
       "        vertical-align: top;\n",
       "    }\n",
       "\n",
       "    .dataframe thead th {\n",
       "        text-align: right;\n",
       "    }\n",
       "</style>\n",
       "<table border=\"1\" class=\"dataframe\">\n",
       "  <thead>\n",
       "    <tr style=\"text-align: right;\">\n",
       "      <th></th>\n",
       "      <th>TSM</th>\n",
       "      <th>TSF</th>\n",
       "    </tr>\n",
       "  </thead>\n",
       "  <tbody>\n",
       "    <tr>\n",
       "      <th>IDH_1980</th>\n",
       "      <td>0.307300</td>\n",
       "      <td>0.331185</td>\n",
       "    </tr>\n",
       "    <tr>\n",
       "      <th>IDH_1990</th>\n",
       "      <td>0.275305</td>\n",
       "      <td>0.363619</td>\n",
       "    </tr>\n",
       "    <tr>\n",
       "      <th>IDH_2000</th>\n",
       "      <td>0.065183</td>\n",
       "      <td>0.270789</td>\n",
       "    </tr>\n",
       "  </tbody>\n",
       "</table>\n",
       "</div>"
      ],
      "text/plain": [
       "               TSM       TSF\n",
       "IDH_1980  0.307300  0.331185\n",
       "IDH_1990  0.275305  0.363619\n",
       "IDH_2000  0.065183  0.270789"
      ]
     },
     "execution_count": 67,
     "metadata": {},
     "output_type": "execute_result"
    }
   ],
   "source": [
    "tsm2000,tsf2000 = tabelaAno(2000).corr().loc['IDH_2000',['TSM_2000','TSF_2000']]\n",
    "tsm1990,tsf1990 = tabelaAno(1990).corr().loc['IDH_1990',['TSM_1990','TSF_1990']]\n",
    "tsm1980,tsf1980 = tabelaAno(1980).corr().loc['IDH_1980',['TSM_1980','TSF_1980']]\n",
    "\n",
    "#Criar tabela de correlação entre TSF e TSM com IDH nos 3 anos disponíveis\n",
    "correlacoes = pd.DataFrame({'IDH_1980':[tsm1980,tsf1980],'IDH_1990':[tsm1990,tsf1990],'IDH_2000':[tsm2000,tsf2000]}).T\n",
    "correlacoes.columns=['TSM','TSF']\n",
    "correlacoes"
   ]
  },
  {
   "cell_type": "markdown",
   "metadata": {},
   "source": [
    "## Conclusão:\n",
    "Portando, não existe correlação entre a taxa de homícidio masculino e IDH e nem entre a taxa de homicídio feminino e o IDH.<br>\n",
    "Além disso pode-se concluir com base nos dados que a TSM em geral é bem maior que a TSF."
   ]
  },
  {
   "cell_type": "code",
   "execution_count": 40,
   "metadata": {},
   "outputs": [
    {
     "data": {
      "text/plain": [
       "<matplotlib.axes._subplots.AxesSubplot at 0x21e74832438>"
      ]
     },
     "execution_count": 40,
     "metadata": {},
     "output_type": "execute_result"
    },
    {
     "data": {
      "image/png": "[encoded data removed]",
      "text/plain": [
       "<Figure size 432x288 with 1 Axes>"
      ]
     },
     "metadata": {},
     "output_type": "display_data"
    }
   ],
   "source": [
    "tabelaAno(2000)[\"TSM_2000\"].plot.hist()\n",
    "tabelaAno(2000)[\"TSF_2000\"].plot.hist()"
   ]
  },
  {
   "cell_type": "code",
   "execution_count": 70,
   "metadata": {},
   "outputs": [
    {
     "data": {
      "text/plain": [
       "<matplotlib.axes._subplots.AxesSubplot at 0x21e741e7eb8>"
      ]
     },
     "execution_count": 70,
     "metadata": {},
     "output_type": "execute_result"
    },
    {
     "data": {
      "image/png": "[encoded data removed]",
      "text/plain": [
       "<Figure size 432x288 with 1 Axes>"
      ]
     },
     "metadata": {},
     "output_type": "display_data"
    }
   ],
   "source": [
    "tabelaAno(1990)[\"TSM_1990\"].plot.hist()\n",
    "tabelaAno(1990)[\"TSF_1990\"].plot.hist()"
   ]
  },
  {
   "cell_type": "code",
   "execution_count": 71,
   "metadata": {},
   "outputs": [
    {
     "data": {
      "text/plain": [
       "<matplotlib.axes._subplots.AxesSubplot at 0x21e75c56630>"
      ]
     },
     "execution_count": 71,
     "metadata": {},
     "output_type": "execute_result"
    },
    {
     "data": {
      "image/png": "[encoded data removed]",
      "text/plain": [
       "<Figure size 432x288 with 1 Axes>"
      ]
     },
     "metadata": {},
     "output_type": "display_data"
    }
   ],
   "source": [
    "tabelaAno(1980)[\"TSM_1980\"].plot.hist()\n",
    "tabelaAno(1980)[\"TSF_1980\"].plot.hist()"
   ]
  },
  {
   "cell_type": "code",
   "execution_count": null,
   "metadata": {},
   "outputs": [],
   "source": []
  }
 ],
 "metadata": {
  "kernelspec": {
   "display_name": "Python 3",
   "language": "python",
   "name": "python3"
  },
  "language_info": {
   "codemirror_mode": {
    "name": "ipython",
    "version": 3
   },
   "file_extension": ".py",
   "mimetype": "text/x-python",
   "name": "python",
   "nbconvert_exporter": "python",
   "pygments_lexer": "ipython3",
   "version": "3.6.5"
  }
 },
 "nbformat": 4,
 "nbformat_minor": 2
}
