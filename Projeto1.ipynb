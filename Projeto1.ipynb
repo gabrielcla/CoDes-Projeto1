{
 "cells": [
  {
   "cell_type": "markdown",
   "metadata": {},
   "source": [
    "# Projeto 1 - Gabriel Couto\n",
    "Pergunta: Países com maior IDH realmente tem maiores taxas de suicídio tanto para homens quanto para mulheres?"
   ]
  },
  {
   "cell_type": "markdown",
   "metadata": {},
   "source": [
    "### Introdução:\n",
    "    É comum acreditar que países com maiores IDH's tenham menores taxa de suicídio (TS).\n",
    "    Utilizando como minhas variáveis os dados disponíveis no Gapminder de IDH, TS masculina e TS femenina verifico resposta da minha pergunta calculando o coeficiente de correlação entre IDH e as TS de cada sexo para os anos disponíveis<br>"
   ]
  },
  {
   "cell_type": "markdown",
   "metadata": {},
   "source": [
    "Importar bibliotecas e arquivos:"
   ]
  },
  {
   "cell_type": "code",
   "execution_count": 2,
   "metadata": {},
   "outputs": [],
   "source": [
    "import pandas as pd\n",
    "import numpy as np\n",
    "import matplotlib\n",
    "import matplotlib.pyplot as plt\n",
    "%matplotlib inline\n",
    "matplotlib.style.use('ggplot')\n",
    "\n",
    "idh0 = pd.read_excel('Indicator_HDI.xlsx')\n",
    "h0 = pd.read_excel('Suicide male indicator.xlsx')\n",
    "m0 = pd.read_excel('Suicide female indicator.xlsx')"
   ]
  },
  {
   "cell_type": "markdown",
   "metadata": {},
   "source": [
    "Criando funções para manipular as tabelas e para plotar os gráficos"
   ]
  },
  {
   "cell_type": "code",
   "execution_count": 3,
   "metadata": {},
   "outputs": [],
   "source": [
    "def tabelaAno(ano):\n",
    "    #Pegar colunas da variável escolhida e do ano\n",
    "    m1 = m0.loc[:,['Suicide women age adjusted',ano]]\n",
    "    h1 = h0.loc[:,['Suicide among men, per 100 000, age adjusted',ano]]\n",
    "    idh1 = idh0.loc[:,['HDI',ano]]\n",
    "\n",
    "    #Mudar nome das colunas\n",
    "    m1.columns = ['Country','TSF_'+str(ano)]\n",
    "    h1.columns = ['Country','TSM_'+str(ano)]\n",
    "    idh1.columns = ['Country','IDH_'+str(ano)]\n",
    "\n",
    "    #Mudar índice para o país\n",
    "    m2 = m1.set_index('Country')\n",
    "    h2 = h1.set_index('Country')\n",
    "    idh2 = idh1.set_index('Country') \n",
    "    \n",
    "    #Filtrar Nan's\n",
    "    m3 = m2[m2['TSF_'+str(ano)]>-1]\n",
    "    h3 = h2[h2['TSM_'+str(ano)]>-1]     \n",
    "    idh3 = idh2[idh2['IDH_'+str(ano)]>-1]\n",
    "\n",
    "    #Unir as tabelas\n",
    "    dados = idh3.join(h3.join(m3,how='inner'), how='inner')\n",
    "    return dados\n",
    "\n",
    "def plotar(ano):\n",
    "    tabelaAno(ano).plot.scatter(x=\"IDH_\"+str(ano), y = \"TSF_\"+str(ano))#,  logx=True)\n",
    "    tabelaAno(ano).plot.scatter(x=\"IDH_\"+str(ano), y = \"TSM_\"+str(ano))#,  logx=True)"
   ]
  },
  {
   "cell_type": "markdown",
   "metadata": {},
   "source": [
    "Gráfico de dispersão: IDH x Suicídios masculinos e IDH x Suicídios femininos"
   ]
  },
  {
   "cell_type": "code",
   "execution_count": 106,
   "metadata": {},
   "outputs": [
    {
     "data": {
      "image/png": "[encoded data removed]",
      "text/plain": [
       "<Figure size 432x288 with 1 Axes>"
      ]
     },
     "metadata": {},
     "output_type": "display_data"
    },
    {
     "data": {
      "image/png": "[encoded data removed]",
      "text/plain": [
       "<Figure size 432x288 with 1 Axes>"
      ]
     },
     "metadata": {},
     "output_type": "display_data"
    }
   ],
   "source": [
    "plotar(2000)"
   ]
  },
  {
   "cell_type": "markdown",
   "metadata": {},
   "source": [
    "O coeficiente de correlação entre as variáveis:"
   ]
  },
  {
   "cell_type": "code",
   "execution_count": 6,
   "metadata": {},
   "outputs": [
    {
     "data": {
      "text/html": [
       "<div>\n",
       "<style scoped>\n",
       "    .dataframe tbody tr th:only-of-type {\n",
       "        vertical-align: middle;\n",
       "    }\n",
       "\n",
       "    .dataframe tbody tr th {\n",
       "        vertical-align: top;\n",
       "    }\n",
       "\n",
       "    .dataframe thead th {\n",
       "        text-align: right;\n",
       "    }\n",
       "</style>\n",
       "<table border=\"1\" class=\"dataframe\">\n",
       "  <thead>\n",
       "    <tr style=\"text-align: right;\">\n",
       "      <th></th>\n",
       "      <th>IDH_2000</th>\n",
       "      <th>TSM_2000</th>\n",
       "      <th>TSF_2000</th>\n",
       "    </tr>\n",
       "  </thead>\n",
       "  <tbody>\n",
       "    <tr>\n",
       "      <th>IDH_2000</th>\n",
       "      <td>1.000000</td>\n",
       "      <td>0.065183</td>\n",
       "      <td>0.270789</td>\n",
       "    </tr>\n",
       "    <tr>\n",
       "      <th>TSM_2000</th>\n",
       "      <td>0.065183</td>\n",
       "      <td>1.000000</td>\n",
       "      <td>0.864259</td>\n",
       "    </tr>\n",
       "    <tr>\n",
       "      <th>TSF_2000</th>\n",
       "      <td>0.270789</td>\n",
       "      <td>0.864259</td>\n",
       "      <td>1.000000</td>\n",
       "    </tr>\n",
       "  </tbody>\n",
       "</table>\n",
       "</div>"
      ],
      "text/plain": [
       "          IDH_2000  TSM_2000  TSF_2000\n",
       "IDH_2000  1.000000  0.065183  0.270789\n",
       "TSM_2000  0.065183  1.000000  0.864259\n",
       "TSF_2000  0.270789  0.864259  1.000000"
      ]
     },
     "execution_count": 6,
     "metadata": {},
     "output_type": "execute_result"
    }
   ],
   "source": [
    "tabelaAno(2000).corr()"
   ]
  },
  {
   "cell_type": "markdown",
   "metadata": {},
   "source": [
    "O coef. de correlação entre IDH e Sui.Fem (0.27) sugere uma baixa correlação entre essas duas variáveis.<br>\n",
    "O coef. de correlação entre IDH e Sui.Mas (0.065) sugere uma ausência de relação entre as duas variáveis.<br>\n",
    "<br>\n",
    "Aparentemente não existe correlação entre IDH e as TS para nenhum dos sexos, mas calcularemos o coef. de correlação para os outros anos disponíveis para confirmar nossa análise:"
   ]
  },
  {
   "cell_type": "code",
   "execution_count": 107,
   "metadata": {},
   "outputs": [
    {
     "data": {
      "text/html": [
       "<div>\n",
       "<style scoped>\n",
       "    .dataframe tbody tr th:only-of-type {\n",
       "        vertical-align: middle;\n",
       "    }\n",
       "\n",
       "    .dataframe tbody tr th {\n",
       "        vertical-align: top;\n",
       "    }\n",
       "\n",
       "    .dataframe thead th {\n",
       "        text-align: right;\n",
       "    }\n",
       "</style>\n",
       "<table border=\"1\" class=\"dataframe\">\n",
       "  <thead>\n",
       "    <tr style=\"text-align: right;\">\n",
       "      <th></th>\n",
       "      <th>TSM</th>\n",
       "      <th>TSF</th>\n",
       "    </tr>\n",
       "  </thead>\n",
       "  <tbody>\n",
       "    <tr>\n",
       "      <th>IDH_1980</th>\n",
       "      <td>0.307300</td>\n",
       "      <td>0.331185</td>\n",
       "    </tr>\n",
       "    <tr>\n",
       "      <th>IDH_1990</th>\n",
       "      <td>0.275305</td>\n",
       "      <td>0.363619</td>\n",
       "    </tr>\n",
       "    <tr>\n",
       "      <th>IDH_2000</th>\n",
       "      <td>0.065183</td>\n",
       "      <td>0.270789</td>\n",
       "    </tr>\n",
       "  </tbody>\n",
       "</table>\n",
       "</div>"
      ],
      "text/plain": [
       "               TSM       TSF\n",
       "IDH_1980  0.307300  0.331185\n",
       "IDH_1990  0.275305  0.363619\n",
       "IDH_2000  0.065183  0.270789"
      ]
     },
     "execution_count": 107,
     "metadata": {},
     "output_type": "execute_result"
    }
   ],
   "source": [
    "tsm2000,tsf2000 = tabelaAno(2000).corr().loc['IDH_2000',['TSM_2000','TSF_2000']]\n",
    "tsm1990,tsf1990 = tabelaAno(1990).corr().loc['IDH_1990',['TSM_1990','TSF_1990']]\n",
    "tsm1980,tsf1980 = tabelaAno(1980).corr().loc['IDH_1980',['TSM_1980','TSF_1980']]\n",
    "\n",
    "correlacoes = pd.DataFrame({'IDH_1980':[tsm1980,tsf1980],'IDH_1990':[tsm1990,tsf1990],'IDH_2000':[tsm2000,tsf2000]}).T\n",
    "correlacoes.columns=['TSM','TSF']\n",
    "correlacoes"
   ]
  },
  {
   "cell_type": "markdown",
   "metadata": {},
   "source": [
    "### Conclusão:\n",
    "Não existe a correlação razoável entre a taxa de homícidio masculino e o IDH e nem entre a taxa de homicídio feminina e o IDH"
   ]
  },
  {
   "cell_type": "code",
   "execution_count": null,
   "metadata": {},
   "outputs": [],
   "source": []
  },
  {
   "cell_type": "code",
   "execution_count": null,
   "metadata": {},
   "outputs": [],
   "source": []
  },
  {
   "cell_type": "code",
   "execution_count": null,
   "metadata": {},
   "outputs": [],
   "source": []
  }
 ],
 "metadata": {
  "kernelspec": {
   "display_name": "Python 3",
   "language": "python",
   "name": "python3"
  },
  "language_info": {
   "codemirror_mode": {
    "name": "ipython",
    "version": 3
   },
   "file_extension": ".py",
   "mimetype": "text/x-python",
   "name": "python",
   "nbconvert_exporter": "python",
   "pygments_lexer": "ipython3",
   "version": "3.6.5"
  }
 },
 "nbformat": 4,
 "nbformat_minor": 2
}
